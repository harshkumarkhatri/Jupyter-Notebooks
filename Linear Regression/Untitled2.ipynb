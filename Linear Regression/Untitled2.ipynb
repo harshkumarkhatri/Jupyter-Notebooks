{
 "nbformat": 4,
 "nbformat_minor": 0,
 "metadata": {
  "colab": {
   "name": "Untitled2.ipynb",
   "provenance": []
  },
  "kernelspec": {
   "name": "python2",
   "language": "python",
   "display_name": "Python 2"
  }
 },
 "cells": [
  {
   "cell_type": "code",
   "metadata": {
    "id": "hefFakD9Ck86",
    "colab_type": "code",
    "colab": {}
   },
   "source": [
    "import tensorflow as tf\n",
    "import numpy as np\n",
    "import matplotlib.pyplot as plt\n"
   ],
   "execution_count": 0,
   "outputs": []
  },
  {
   "cell_type": "code",
   "metadata": {
    "id": "v-1zKIjlE_YN",
    "colab_type": "code",
    "colab": {
     "base_uri": "https://localhost:8080/",
     "height": 295
    },
    "outputId": "4b541248-4d70-411f-ec1d-c1e3dbfbcf5a"
   },
   "source": [
    "x=np.array([1,2,3,4,5])\n",
    "y=np.array([10,20,30,40,50])\n",
    "plt.bar(x,y)\n",
    "plt.xlabel('x')\n",
    "plt.ylabel('y')\n",
    "plt.title(\"Scattering\")\n",
    "plt.show()"
   ],
   "execution_count": 28,
   "outputs": [
    {
     "output_type": "display_data",
     "data": {
      "image/png": "[encoded data removed]",
      "text/plain": [
       "<Figure size 432x288 with 1 Axes>"
      ]
     },
     "metadata": {
      "tags": [],
      "needs_background": "light"
     }
    }
   ]
  },
  {
   "cell_type": "code",
   "metadata": {
    "id": "04ZpG4MaGsge",
    "colab_type": "code",
    "colab": {}
   },
   "source": [
    "from tensorflow import keras"
   ],
   "execution_count": 0,
   "outputs": []
  },
  {
   "cell_type": "code",
   "metadata": {
    "id": "UChTIarrGuLk",
    "colab_type": "code",
    "colab": {}
   },
   "source": [
    "model=tf.keras.Sequential([keras.layers.Dense(units=1,input_shape=[1])])\n"
   ],
   "execution_count": 0,
   "outputs": []
  },
  {
   "cell_type": "code",
   "metadata": {
    "id": "V__p2ewlIN4D",
    "colab_type": "code",
    "colab": {}
   },
   "source": [
    "model.compile(\n",
    "    optimizer='sgd',\n",
    "    loss='mean_squared_error'\n",
    ")"
   ],
   "execution_count": 0,
   "outputs": []
  },
  {
   "cell_type": "code",
   "metadata": {
    "id": "sksc4nrhIZI2",
    "colab_type": "code",
    "colab": {
     "base_uri": "https://localhost:8080/",
     "height": 1000
    },
    "outputId": "ba0d674a-e7be-4854-b3c4-aafd45f9e700"
   },
   "source": [
    "model.fit(x,y,epochs=100)"
   ],
   "execution_count": 33,
   "outputs": [
    {
     "output_type": "stream",
     "text": [
      "Epoch 1/100\n",
      "1/1 [==============================] - 0s 2ms/step - loss: 6.9540\n",
      "Epoch 2/100\n",
      "1/1 [==============================] - 0s 2ms/step - loss: 4.5802\n",
      "Epoch 3/100\n",
      "1/1 [==============================] - 0s 3ms/step - loss: 3.1933\n",
      "Epoch 4/100\n",
      "1/1 [==============================] - 0s 2ms/step - loss: 2.3815\n",
      "Epoch 5/100\n",
      "1/1 [==============================] - 0s 2ms/step - loss: 1.9050\n",
      "Epoch 6/100\n",
      "1/1 [==============================] - 0s 2ms/step - loss: 1.6238\n",
      "Epoch 7/100\n",
      "1/1 [==============================] - 0s 2ms/step - loss: 1.4564\n",
      "Epoch 8/100\n",
      "1/1 [==============================] - 0s 2ms/step - loss: 1.3555\n",
      "Epoch 9/100\n",
      "1/1 [==============================] - 0s 2ms/step - loss: 1.2932\n",
      "Epoch 10/100\n",
      "1/1 [==============================] - 0s 2ms/step - loss: 1.2535\n",
      "Epoch 11/100\n",
      "1/1 [==============================] - 0s 2ms/step - loss: 1.2270\n",
      "Epoch 12/100\n",
      "1/1 [==============================] - 0s 2ms/step - loss: 1.2082\n",
      "Epoch 13/100\n",
      "1/1 [==============================] - 0s 2ms/step - loss: 1.1940\n",
      "Epoch 14/100\n",
      "1/1 [==============================] - 0s 2ms/step - loss: 1.1823\n",
      "Epoch 15/100\n",
      "1/1 [==============================] - 0s 2ms/step - loss: 1.1723\n",
      "Epoch 16/100\n",
      "1/1 [==============================] - 0s 2ms/step - loss: 1.1631\n",
      "Epoch 17/100\n",
      "1/1 [==============================] - 0s 2ms/step - loss: 1.1546\n",
      "Epoch 18/100\n",
      "1/1 [==============================] - 0s 2ms/step - loss: 1.1464\n",
      "Epoch 19/100\n",
      "1/1 [==============================] - 0s 2ms/step - loss: 1.1384\n",
      "Epoch 20/100\n",
      "1/1 [==============================] - 0s 2ms/step - loss: 1.1306\n",
      "Epoch 21/100\n",
      "1/1 [==============================] - 0s 2ms/step - loss: 1.1229\n",
      "Epoch 22/100\n",
      "1/1 [==============================] - 0s 2ms/step - loss: 1.1152\n",
      "Epoch 23/100\n",
      "1/1 [==============================] - 0s 2ms/step - loss: 1.1077\n",
      "Epoch 24/100\n",
      "1/1 [==============================] - 0s 2ms/step - loss: 1.1002\n",
      "Epoch 25/100\n",
      "1/1 [==============================] - 0s 2ms/step - loss: 1.0928\n",
      "Epoch 26/100\n",
      "1/1 [==============================] - 0s 2ms/step - loss: 1.0854\n",
      "Epoch 27/100\n",
      "1/1 [==============================] - 0s 2ms/step - loss: 1.0780\n",
      "Epoch 28/100\n",
      "1/1 [==============================] - 0s 2ms/step - loss: 1.0708\n",
      "Epoch 29/100\n",
      "1/1 [==============================] - 0s 2ms/step - loss: 1.0635\n",
      "Epoch 30/100\n",
      "1/1 [==============================] - 0s 3ms/step - loss: 1.0564\n",
      "Epoch 31/100\n",
      "1/1 [==============================] - 0s 2ms/step - loss: 1.0492\n",
      "Epoch 32/100\n",
      "1/1 [==============================] - 0s 3ms/step - loss: 1.0421\n",
      "Epoch 33/100\n",
      "1/1 [==============================] - 0s 3ms/step - loss: 1.0351\n",
      "Epoch 34/100\n",
      "1/1 [==============================] - 0s 2ms/step - loss: 1.0281\n",
      "Epoch 35/100\n",
      "1/1 [==============================] - 0s 3ms/step - loss: 1.0212\n",
      "Epoch 36/100\n",
      "1/1 [==============================] - 0s 2ms/step - loss: 1.0143\n",
      "Epoch 37/100\n",
      "1/1 [==============================] - 0s 2ms/step - loss: 1.0074\n",
      "Epoch 38/100\n",
      "1/1 [==============================] - 0s 2ms/step - loss: 1.0006\n",
      "Epoch 39/100\n",
      "1/1 [==============================] - 0s 2ms/step - loss: 0.9939\n",
      "Epoch 40/100\n",
      "1/1 [==============================] - 0s 2ms/step - loss: 0.9872\n",
      "Epoch 41/100\n",
      "1/1 [==============================] - 0s 2ms/step - loss: 0.9805\n",
      "Epoch 42/100\n",
      "1/1 [==============================] - 0s 2ms/step - loss: 0.9739\n",
      "Epoch 43/100\n",
      "1/1 [==============================] - 0s 2ms/step - loss: 0.9673\n",
      "Epoch 44/100\n",
      "1/1 [==============================] - 0s 2ms/step - loss: 0.9608\n",
      "Epoch 45/100\n",
      "1/1 [==============================] - 0s 2ms/step - loss: 0.9543\n",
      "Epoch 46/100\n",
      "1/1 [==============================] - 0s 2ms/step - loss: 0.9479\n",
      "Epoch 47/100\n",
      "1/1 [==============================] - 0s 2ms/step - loss: 0.9415\n",
      "Epoch 48/100\n",
      "1/1 [==============================] - 0s 2ms/step - loss: 0.9351\n",
      "Epoch 49/100\n",
      "1/1 [==============================] - 0s 2ms/step - loss: 0.9288\n",
      "Epoch 50/100\n",
      "1/1 [==============================] - 0s 2ms/step - loss: 0.9225\n",
      "Epoch 51/100\n",
      "1/1 [==============================] - 0s 2ms/step - loss: 0.9163\n",
      "Epoch 52/100\n",
      "1/1 [==============================] - 0s 2ms/step - loss: 0.9101\n",
      "Epoch 53/100\n",
      "1/1 [==============================] - 0s 2ms/step - loss: 0.9040\n",
      "Epoch 54/100\n",
      "1/1 [==============================] - 0s 2ms/step - loss: 0.8979\n",
      "Epoch 55/100\n",
      "1/1 [==============================] - 0s 2ms/step - loss: 0.8918\n",
      "Epoch 56/100\n",
      "1/1 [==============================] - 0s 2ms/step - loss: 0.8858\n",
      "Epoch 57/100\n",
      "1/1 [==============================] - 0s 2ms/step - loss: 0.8798\n",
      "Epoch 58/100\n",
      "1/1 [==============================] - 0s 2ms/step - loss: 0.8739\n",
      "Epoch 59/100\n",
      "1/1 [==============================] - 0s 2ms/step - loss: 0.8680\n",
      "Epoch 60/100\n",
      "1/1 [==============================] - 0s 2ms/step - loss: 0.8621\n",
      "Epoch 61/100\n",
      "1/1 [==============================] - 0s 2ms/step - loss: 0.8563\n",
      "Epoch 62/100\n",
      "1/1 [==============================] - 0s 2ms/step - loss: 0.8505\n",
      "Epoch 63/100\n",
      "1/1 [==============================] - 0s 2ms/step - loss: 0.8448\n",
      "Epoch 64/100\n",
      "1/1 [==============================] - 0s 2ms/step - loss: 0.8391\n",
      "Epoch 65/100\n",
      "1/1 [==============================] - 0s 2ms/step - loss: 0.8334\n",
      "Epoch 66/100\n",
      "1/1 [==============================] - 0s 2ms/step - loss: 0.8278\n",
      "Epoch 67/100\n",
      "1/1 [==============================] - 0s 2ms/step - loss: 0.8222\n",
      "Epoch 68/100\n",
      "1/1 [==============================] - 0s 2ms/step - loss: 0.8166\n",
      "Epoch 69/100\n",
      "1/1 [==============================] - 0s 2ms/step - loss: 0.8111\n",
      "Epoch 70/100\n",
      "1/1 [==============================] - 0s 2ms/step - loss: 0.8056\n",
      "Epoch 71/100\n",
      "1/1 [==============================] - 0s 2ms/step - loss: 0.8002\n",
      "Epoch 72/100\n",
      "1/1 [==============================] - 0s 2ms/step - loss: 0.7948\n",
      "Epoch 73/100\n",
      "1/1 [==============================] - 0s 2ms/step - loss: 0.7894\n",
      "Epoch 74/100\n",
      "1/1 [==============================] - 0s 2ms/step - loss: 0.7841\n",
      "Epoch 75/100\n",
      "1/1 [==============================] - 0s 2ms/step - loss: 0.7788\n",
      "Epoch 76/100\n",
      "1/1 [==============================] - 0s 2ms/step - loss: 0.7736\n",
      "Epoch 77/100\n",
      "1/1 [==============================] - 0s 2ms/step - loss: 0.7683\n",
      "Epoch 78/100\n",
      "1/1 [==============================] - 0s 2ms/step - loss: 0.7632\n",
      "Epoch 79/100\n",
      "1/1 [==============================] - 0s 2ms/step - loss: 0.7580\n",
      "Epoch 80/100\n",
      "1/1 [==============================] - 0s 2ms/step - loss: 0.7529\n",
      "Epoch 81/100\n",
      "1/1 [==============================] - 0s 2ms/step - loss: 0.7478\n",
      "Epoch 82/100\n",
      "1/1 [==============================] - 0s 2ms/step - loss: 0.7427\n",
      "Epoch 83/100\n",
      "1/1 [==============================] - 0s 3ms/step - loss: 0.7377\n",
      "Epoch 84/100\n",
      "1/1 [==============================] - 0s 3ms/step - loss: 0.7328\n",
      "Epoch 85/100\n",
      "1/1 [==============================] - 0s 2ms/step - loss: 0.7278\n",
      "Epoch 86/100\n",
      "1/1 [==============================] - 0s 2ms/step - loss: 0.7229\n",
      "Epoch 87/100\n",
      "1/1 [==============================] - 0s 2ms/step - loss: 0.7180\n",
      "Epoch 88/100\n",
      "1/1 [==============================] - 0s 2ms/step - loss: 0.7132\n",
      "Epoch 89/100\n",
      "1/1 [==============================] - 0s 2ms/step - loss: 0.7084\n",
      "Epoch 90/100\n",
      "1/1 [==============================] - 0s 2ms/step - loss: 0.7036\n",
      "Epoch 91/100\n",
      "1/1 [==============================] - 0s 1ms/step - loss: 0.6988\n",
      "Epoch 92/100\n",
      "1/1 [==============================] - 0s 2ms/step - loss: 0.6941\n",
      "Epoch 93/100\n",
      "1/1 [==============================] - 0s 2ms/step - loss: 0.6894\n",
      "Epoch 94/100\n",
      "1/1 [==============================] - 0s 2ms/step - loss: 0.6848\n",
      "Epoch 95/100\n",
      "1/1 [==============================] - 0s 2ms/step - loss: 0.6801\n",
      "Epoch 96/100\n",
      "1/1 [==============================] - 0s 2ms/step - loss: 0.6756\n",
      "Epoch 97/100\n",
      "1/1 [==============================] - 0s 2ms/step - loss: 0.6710\n",
      "Epoch 98/100\n",
      "1/1 [==============================] - 0s 2ms/step - loss: 0.6665\n",
      "Epoch 99/100\n",
      "1/1 [==============================] - 0s 1ms/step - loss: 0.6620\n",
      "Epoch 100/100\n",
      "1/1 [==============================] - 0s 1ms/step - loss: 0.6575\n"
     ],
     "name": "stdout"
    },
    {
     "output_type": "execute_result",
     "data": {
      "text/plain": [
       "<tensorflow.python.keras.callbacks.History at 0x7f32fbefa278>"
      ]
     },
     "metadata": {
      "tags": []
     },
     "execution_count": 33
    }
   ]
  },
  {
   "cell_type": "code",
   "metadata": {
    "id": "k9dFc2YbJS9z",
    "colab_type": "code",
    "colab": {
     "base_uri": "https://localhost:8080/",
     "height": 34
    },
    "outputId": "efaefd09-45da-4fe5-c74a-0b509efdea8a"
   },
   "source": [
    "print(model.predict([5]))"
   ],
   "execution_count": 35,
   "outputs": [
    {
     "output_type": "stream",
     "text": [
      "[[49.270897]]\n"
     ],
     "name": "stdout"
    }
   ]
  },
  {
   "cell_type": "code",
   "metadata": {
    "id": "S81JW9F3MO8J",
    "colab_type": "code",
    "colab": {
     "base_uri": "https://localhost:8080/",
     "height": 183
    },
    "outputId": "5a7ee311-fd9e-47ed-b3ce-331d53329050"
   },
   "source": [
    "print(model.intercept_)"
   ],
   "execution_count": 37,
   "outputs": [
    {
     "output_type": "error",
     "ename": "AttributeError",
     "evalue": "ignored",
     "traceback": [
      "\u001B[0;31m---------------------------------------------------------------------------\u001B[0m",
      "\u001B[0;31mAttributeError\u001B[0m                            Traceback (most recent call last)",
      "\u001B[0;32m<ipython-input-37-dd879722bf51>\u001B[0m in \u001B[0;36m<module>\u001B[0;34m()\u001B[0m\n\u001B[0;32m----> 1\u001B[0;31m \u001B[0mprint\u001B[0m\u001B[0;34m(\u001B[0m\u001B[0mmodel\u001B[0m\u001B[0;34m.\u001B[0m\u001B[0mintercept_\u001B[0m\u001B[0;34m)\u001B[0m\u001B[0;34m\u001B[0m\u001B[0;34m\u001B[0m\u001B[0m\n\u001B[0m",
      "\u001B[0;31mAttributeError\u001B[0m: 'Sequential' object has no attribute 'intercept_'"
     ]
    }
   ]
  }
 ]
}