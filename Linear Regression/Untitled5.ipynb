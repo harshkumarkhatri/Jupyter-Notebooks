{
  "nbformat": 4,
  "nbformat_minor": 0,
  "metadata": {
    "colab": {
      "name": "Untitled5.ipynb",
      "provenance": []
    },
    "kernelspec": {
      "name": "python3",
      "display_name": "Python 3"
    }
  },
  "cells": [
    {
      "cell_type": "code",
      "metadata": {
        "id": "g3qP-I1FA3Pj",
        "colab_type": "code",
        "colab": {}
      },
      "source": [
        "# Plotting ridge coeff as function o fregularization"
      ],
      "execution_count": 0,
      "outputs": []
    },
    {
      "cell_type": "code",
      "metadata": {
        "id": "TX00eJ2KBIoK",
        "colab_type": "code",
        "colab": {}
      },
      "source": [
        "from sklearn import linear_model \n",
        "import numpy as np\n",
        "import matplotlib.pyplot as plt\n"
      ],
      "execution_count": 0,
      "outputs": []
    },
    {
      "cell_type": "code",
      "metadata": {
        "id": "Ce4m-r-eBUDl",
        "colab_type": "code",
        "colab": {}
      },
      "source": [
        "x=1/(np.arange(1,11)+np.arange(0,10)[:,np.newaxis])\n",
        "y=np.ones(10)"
      ],
      "execution_count": 0,
      "outputs": []
    },
    {
      "cell_type": "code",
      "metadata": {
        "id": "887uP989BjmO",
        "colab_type": "code",
        "colab": {
          "base_uri": "https://localhost:8080/",
          "height": 357
        },
        "outputId": "be28681e-9dc8-42dc-a5c8-d4d119ab0e60"
      },
      "source": [
        "print(x)"
      ],
      "execution_count": 4,
      "outputs": [
        {
          "output_type": "stream",
          "text": [
            "[[1.         0.5        0.33333333 0.25       0.2        0.16666667\n",
            "  0.14285714 0.125      0.11111111 0.1       ]\n",
            " [0.5        0.33333333 0.25       0.2        0.16666667 0.14285714\n",
            "  0.125      0.11111111 0.1        0.09090909]\n",
            " [0.33333333 0.25       0.2        0.16666667 0.14285714 0.125\n",
            "  0.11111111 0.1        0.09090909 0.08333333]\n",
            " [0.25       0.2        0.16666667 0.14285714 0.125      0.11111111\n",
            "  0.1        0.09090909 0.08333333 0.07692308]\n",
            " [0.2        0.16666667 0.14285714 0.125      0.11111111 0.1\n",
            "  0.09090909 0.08333333 0.07692308 0.07142857]\n",
            " [0.16666667 0.14285714 0.125      0.11111111 0.1        0.09090909\n",
            "  0.08333333 0.07692308 0.07142857 0.06666667]\n",
            " [0.14285714 0.125      0.11111111 0.1        0.09090909 0.08333333\n",
            "  0.07692308 0.07142857 0.06666667 0.0625    ]\n",
            " [0.125      0.11111111 0.1        0.09090909 0.08333333 0.07692308\n",
            "  0.07142857 0.06666667 0.0625     0.05882353]\n",
            " [0.11111111 0.1        0.09090909 0.08333333 0.07692308 0.07142857\n",
            "  0.06666667 0.0625     0.05882353 0.05555556]\n",
            " [0.1        0.09090909 0.08333333 0.07692308 0.07142857 0.06666667\n",
            "  0.0625     0.05882353 0.05555556 0.05263158]]\n"
          ],
          "name": "stdout"
        }
      ]
    },
    {
      "cell_type": "code",
      "metadata": {
        "id": "OZUbHpU3Bk5X",
        "colab_type": "code",
        "colab": {
          "base_uri": "https://localhost:8080/",
          "height": 34
        },
        "outputId": "534d782e-2d3d-4e7d-f747-86005c98fdbd"
      },
      "source": [
        "print(y)"
      ],
      "execution_count": 5,
      "outputs": [
        {
          "output_type": "stream",
          "text": [
            "[1. 1. 1. 1. 1. 1. 1. 1. 1. 1.]\n"
          ],
          "name": "stdout"
        }
      ]
    },
    {
      "cell_type": "code",
      "metadata": {
        "id": "QT9UvbrWBpMr",
        "colab_type": "code",
        "colab": {}
      },
      "source": [
        "n_alphas=200\n",
        "alphas=np.logspace(-10,-2,n_alphas)\n",
        "coefs=[]\n",
        "for a in alphas:\n",
        "  ridge=linear_model.Ridge(alpha=a,fit_intercept=False)\n",
        "  ridge.fit(x,y)\n",
        "  coefs.append(ridge.coef_)"
      ],
      "execution_count": 0,
      "outputs": []
    },
    {
      "cell_type": "code",
      "metadata": {
        "id": "IFhdqWQvCEgw",
        "colab_type": "code",
        "colab": {
          "base_uri": "https://localhost:8080/",
          "height": 269
        },
        "outputId": "d1cf5eea-e72c-4c12-9d7a-7b9f88396970"
      },
      "source": [
        "ax=plt.gca()"
      ],
      "execution_count": 7,
      "outputs": [
        {
          "output_type": "display_data",
          "data": {
            "image/png": "[encoded data removed]",
            "text/plain": [
              "<Figure size 432x288 with 1 Axes>"
            ]
          },
          "metadata": {
            "tags": [],
            "needs_background": "light"
          }
        }
      ]
    },
    {
      "cell_type": "code",
      "metadata": {
        "id": "UUrfiQmDCPxX",
        "colab_type": "code",
        "colab": {
          "base_uri": "https://localhost:8080/",
          "height": 295
        },
        "outputId": "624a1fff-92c1-43ca-d60c-a2da2c2b4b60"
      },
      "source": [
        "ax.plot(alphas,coefs)\n",
        "ax.set_xscale('log')\n",
        "ax.set_xlim(ax.get_xlim()[::-1])  # reverse axis\n",
        "plt.xlabel('alpha')\n",
        "plt.ylabel('weights')\n",
        "plt.title('Ridge coefficients as a function of the regularization')\n",
        "plt.axis('tight')\n",
        "plt.show()\n"
      ],
      "execution_count": 8,
      "outputs": [
        {
          "output_type": "display_data",
          "data": {
            "image/png": "[encoded data removed]",
            "text/plain": [
              "<Figure size 432x288 with 1 Axes>"
            ]
          },
          "metadata": {
            "tags": [],
            "needs_background": "light"
          }
        }
      ]
    }
  ]
}