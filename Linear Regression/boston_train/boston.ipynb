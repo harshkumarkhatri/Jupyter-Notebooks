{
 "cells": [
  {
   "cell_type": "code",
   "execution_count": 4,
   "metadata": {
    "collapsed": true
   },
   "outputs": [
    {
     "name": "stdout",
     "output_type": "stream",
     "text": [
      "Hello\n"
     ]
    }
   ],
   "source": [
    "from sklearn import linear_model\n",
    "import numpy as np\n",
    "print(\"Hello\")\n"
   ]
  },
  {
   "cell_type": "code",
   "execution_count": 5,
   "outputs": [],
   "source": [
    "import matplotlib.pyplot as plt\n",
    "import numpy as np\n",
    "import pandas as pd"
   ],
   "metadata": {
    "collapsed": false,
    "pycharm": {
     "name": "#%%\n"
    }
   }
  },
  {
   "cell_type": "code",
   "execution_count": 6,
   "outputs": [],
   "source": [
    "dataset_train=pd.read_csv(\"boston_train.csv\")\n",
    "dataset_test=pd.read_csv(\"boston_test.csv\")\n",
    "dataset_predict=pd.read_csv(\"boston_predict.csv\")"
   ],
   "metadata": {
    "collapsed": false,
    "pycharm": {
     "name": "#%%\n"
    }
   }
  },
  {
   "cell_type": "code",
   "execution_count": 9,
   "outputs": [
    {
     "data": {
      "text/plain": "(6, 11)"
     },
     "execution_count": 9,
     "metadata": {},
     "output_type": "execute_result"
    }
   ],
   "source": [
    "np.shape(dataset_train)\n",
    "np.shape(dataset_predict)"
   ],
   "metadata": {
    "collapsed": false,
    "pycharm": {
     "name": "#%%\n"
    }
   }
  },
  {
   "cell_type": "code",
   "execution_count": 10,
   "outputs": [
    {
     "data": {
      "text/plain": "(100, 12)"
     },
     "execution_count": 10,
     "metadata": {},
     "output_type": "execute_result"
    }
   ],
   "source": [
    "np.shape(dataset_test)\n",
    "\n"
   ],
   "metadata": {
    "collapsed": false,
    "pycharm": {
     "name": "#%%\n"
    }
   }
  },
  {
   "cell_type": "code",
   "execution_count": 12,
   "outputs": [
    {
     "data": {
      "text/plain": "           0\n    400    0\n9          0\nCRIM       0\nZN         0\nINDUS      0\nNOX        0\nRM         0\nAGE        0\nDIS        0\nTAX        0\nPTRATIO  400\nMEDV     400",
      "text/html": "<div>\n<style scoped>\n    .dataframe tbody tr th:only-of-type {\n        vertical-align: middle;\n    }\n\n    .dataframe tbody tr th {\n        vertical-align: top;\n    }\n\n    .dataframe thead th {\n        text-align: right;\n    }\n</style>\n<table border=\"1\" class=\"dataframe\">\n  <thead>\n    <tr style=\"text-align: right;\">\n      <th></th>\n      <th>0</th>\n    </tr>\n  </thead>\n  <tbody>\n    <tr>\n      <th>400</th>\n      <td>0</td>\n    </tr>\n    <tr>\n      <th>9</th>\n      <td>0</td>\n    </tr>\n    <tr>\n      <th>CRIM</th>\n      <td>0</td>\n    </tr>\n    <tr>\n      <th>ZN</th>\n      <td>0</td>\n    </tr>\n    <tr>\n      <th>INDUS</th>\n      <td>0</td>\n    </tr>\n    <tr>\n      <th>NOX</th>\n      <td>0</td>\n    </tr>\n    <tr>\n      <th>RM</th>\n      <td>0</td>\n    </tr>\n    <tr>\n      <th>AGE</th>\n      <td>0</td>\n    </tr>\n    <tr>\n      <th>DIS</th>\n      <td>0</td>\n    </tr>\n    <tr>\n      <th>TAX</th>\n      <td>0</td>\n    </tr>\n    <tr>\n      <th>PTRATIO</th>\n      <td>400</td>\n    </tr>\n    <tr>\n      <th>MEDV</th>\n      <td>400</td>\n    </tr>\n  </tbody>\n</table>\n</div>"
     },
     "execution_count": 12,
     "metadata": {},
     "output_type": "execute_result"
    }
   ],
   "source": [
    "pd.DataFrame(dataset_train.isnull().sum())"
   ],
   "metadata": {
    "collapsed": false,
    "pycharm": {
     "name": "#%%\n"
    }
   }
  },
  {
   "cell_type": "code",
   "execution_count": 13,
   "outputs": [
    {
     "data": {
      "text/plain": "           0\n100        0\n9          0\nCRIM       0\nZN         0\nINDUS      0\nNOX        0\nRM         0\nAGE        0\nDIS        0\nTAX        0\nPTRATIO  100\nMEDV     100",
      "text/html": "<div>\n<style scoped>\n    .dataframe tbody tr th:only-of-type {\n        vertical-align: middle;\n    }\n\n    .dataframe tbody tr th {\n        vertical-align: top;\n    }\n\n    .dataframe thead th {\n        text-align: right;\n    }\n</style>\n<table border=\"1\" class=\"dataframe\">\n  <thead>\n    <tr style=\"text-align: right;\">\n      <th></th>\n      <th>0</th>\n    </tr>\n  </thead>\n  <tbody>\n    <tr>\n      <th>100</th>\n      <td>0</td>\n    </tr>\n    <tr>\n      <th>9</th>\n      <td>0</td>\n    </tr>\n    <tr>\n      <th>CRIM</th>\n      <td>0</td>\n    </tr>\n    <tr>\n      <th>ZN</th>\n      <td>0</td>\n    </tr>\n    <tr>\n      <th>INDUS</th>\n      <td>0</td>\n    </tr>\n    <tr>\n      <th>NOX</th>\n      <td>0</td>\n    </tr>\n    <tr>\n      <th>RM</th>\n      <td>0</td>\n    </tr>\n    <tr>\n      <th>AGE</th>\n      <td>0</td>\n    </tr>\n    <tr>\n      <th>DIS</th>\n      <td>0</td>\n    </tr>\n    <tr>\n      <th>TAX</th>\n      <td>0</td>\n    </tr>\n    <tr>\n      <th>PTRATIO</th>\n      <td>100</td>\n    </tr>\n    <tr>\n      <th>MEDV</th>\n      <td>100</td>\n    </tr>\n  </tbody>\n</table>\n</div>"
     },
     "execution_count": 13,
     "metadata": {},
     "output_type": "execute_result"
    }
   ],
   "source": [
    "# Checking for null value sin testdataset\n",
    "pd.DataFrame(dataset_test.isnull().sum())\n"
   ],
   "metadata": {
    "collapsed": false,
    "pycharm": {
     "name": "#%%\n"
    }
   }
  },
  {
   "cell_type": "code",
   "execution_count": 14,
   "outputs": [
    {
     "data": {
      "text/plain": "         0\n6        0\n9        0\nCRIM     0\nZN       0\nINDUS    0\nNOX      0\nRM       0\nAGE      0\nDIS      0\nTAX      6\nPTRATIO  6",
      "text/html": "<div>\n<style scoped>\n    .dataframe tbody tr th:only-of-type {\n        vertical-align: middle;\n    }\n\n    .dataframe tbody tr th {\n        vertical-align: top;\n    }\n\n    .dataframe thead th {\n        text-align: right;\n    }\n</style>\n<table border=\"1\" class=\"dataframe\">\n  <thead>\n    <tr style=\"text-align: right;\">\n      <th></th>\n      <th>0</th>\n    </tr>\n  </thead>\n  <tbody>\n    <tr>\n      <th>6</th>\n      <td>0</td>\n    </tr>\n    <tr>\n      <th>9</th>\n      <td>0</td>\n    </tr>\n    <tr>\n      <th>CRIM</th>\n      <td>0</td>\n    </tr>\n    <tr>\n      <th>ZN</th>\n      <td>0</td>\n    </tr>\n    <tr>\n      <th>INDUS</th>\n      <td>0</td>\n    </tr>\n    <tr>\n      <th>NOX</th>\n      <td>0</td>\n    </tr>\n    <tr>\n      <th>RM</th>\n      <td>0</td>\n    </tr>\n    <tr>\n      <th>AGE</th>\n      <td>0</td>\n    </tr>\n    <tr>\n      <th>DIS</th>\n      <td>0</td>\n    </tr>\n    <tr>\n      <th>TAX</th>\n      <td>6</td>\n    </tr>\n    <tr>\n      <th>PTRATIO</th>\n      <td>6</td>\n    </tr>\n  </tbody>\n</table>\n</div>"
     },
     "execution_count": 14,
     "metadata": {},
     "output_type": "execute_result"
    }
   ],
   "source": [
    "# Checking for null values in predict datsset\n",
    "\n",
    "pd.DataFrame(dataset_predict.isnull().sum())\n"
   ],
   "metadata": {
    "collapsed": false,
    "pycharm": {
     "name": "#%%\n"
    }
   }
  },
  {
   "cell_type": "code",
   "execution_count": 15,
   "outputs": [
    {
     "data": {
      "text/plain": "    400    0\n9          0\nCRIM       0\nZN         0\nINDUS      0\nNOX        0\nRM         0\nAGE        0\nDIS        0\nTAX        0\nPTRATIO    0\nMEDV       0\ndtype: int64"
     },
     "execution_count": 15,
     "metadata": {},
     "output_type": "execute_result"
    }
   ],
   "source": [
    "dataset_train=dataset_train.dropna()\n",
    "dataset_train.isnull().sum()"
   ],
   "metadata": {
    "collapsed": false,
    "pycharm": {
     "name": "#%%\n"
    }
   }
  },
  {
   "cell_type": "code",
   "execution_count": 16,
   "outputs": [
    {
     "data": {
      "text/plain": "100        0\n9          0\nCRIM       0\nZN         0\nINDUS      0\nNOX        0\nRM         0\nAGE        0\nDIS        0\nTAX        0\nPTRATIO    0\nMEDV       0\ndtype: int64"
     },
     "execution_count": 16,
     "metadata": {},
     "output_type": "execute_result"
    }
   ],
   "source": [
    "# dropping na values from test dataser\n",
    "dataset_test=dataset_test.dropna()\n",
    "dataset_test.isnull().sum()"
   ],
   "metadata": {
    "collapsed": false,
    "pycharm": {
     "name": "#%%\n"
    }
   }
  },
  {
   "cell_type": "code",
   "execution_count": 23,
   "outputs": [
    {
     "data": {
      "text/plain": "Series([], Name: TAX, dtype: float64)"
     },
     "execution_count": 23,
     "metadata": {},
     "output_type": "execute_result"
    }
   ],
   "source": [
    "x_train=dataset_train.drop('TAX',axis=1)\n",
    "# print(dataset_train_x.head().values)\n",
    "y_train=dataset_train['TAX']\n",
    "y_train.head()"
   ],
   "metadata": {
    "collapsed": false,
    "pycharm": {
     "name": "#%%\n"
    }
   }
  },
  {
   "cell_type": "code",
   "execution_count": 49,
   "outputs": [
    {
     "data": {
      "text/plain": "LinearRegression()"
     },
     "execution_count": 49,
     "metadata": {},
     "output_type": "execute_result"
    }
   ],
   "source": [
    "# initializing the model\n",
    "reg=linear_model.LinearRegression()\n",
    "reg.fit(x_train,y_train)\n",
    "# y_predict=reg.predict()"
   ],
   "metadata": {
    "collapsed": false,
    "pycharm": {
     "name": "#%%\n"
    }
   }
  },
  {
   "cell_type": "code",
   "execution_count": 25,
   "outputs": [
    {
     "data": {
      "text/plain": "(506, 14)"
     },
     "execution_count": 25,
     "metadata": {},
     "output_type": "execute_result"
    }
   ],
   "source": [
    "dataset=pd.read_csv(\"HousingData.csv\")\n",
    "dataset.shape"
   ],
   "metadata": {
    "collapsed": false,
    "pycharm": {
     "name": "#%%\n"
    }
   }
  },
  {
   "cell_type": "code",
   "execution_count": 28,
   "outputs": [
    {
     "data": {
      "text/plain": "CRIM       20\nZN         20\nINDUS      20\nCHAS       20\nNOX         0\nRM          0\nAGE        20\nDIS         0\nRAD         0\nTAX         0\nPTRATIO     0\nB           0\nLSTAT      20\nMEDV        0\ndtype: int64"
     },
     "execution_count": 28,
     "metadata": {},
     "output_type": "execute_result"
    }
   ],
   "source": [
    "from sklearn.model_selection import train_test_split\n",
    "dataset.isnull().sum()"
   ],
   "metadata": {
    "collapsed": false,
    "pycharm": {
     "name": "#%%\n"
    }
   }
  },
  {
   "cell_type": "code",
   "execution_count": 33,
   "outputs": [],
   "source": [
    "dataset=dataset.dropna()"
   ],
   "metadata": {
    "collapsed": false,
    "pycharm": {
     "name": "#%%\n"
    }
   }
  },
  {
   "cell_type": "code",
   "execution_count": 34,
   "outputs": [
    {
     "data": {
      "text/plain": "CRIM       0\nZN         0\nINDUS      0\nCHAS       0\nNOX        0\nRM         0\nAGE        0\nDIS        0\nRAD        0\nTAX        0\nPTRATIO    0\nB          0\nLSTAT      0\nMEDV       0\ndtype: int64"
     },
     "execution_count": 34,
     "metadata": {},
     "output_type": "execute_result"
    }
   ],
   "source": [
    "dataset.isnull().sum()"
   ],
   "metadata": {
    "collapsed": false,
    "pycharm": {
     "name": "#%%\n"
    }
   }
  },
  {
   "cell_type": "code",
   "execution_count": 36,
   "outputs": [],
   "source": [
    "x=dataset.drop('TAX',axis=1)\n",
    "y=dataset['TAX']"
   ],
   "metadata": {
    "collapsed": false,
    "pycharm": {
     "name": "#%%\n"
    }
   }
  },
  {
   "cell_type": "code",
   "execution_count": 38,
   "outputs": [
    {
     "data": {
      "text/plain": "(394,)"
     },
     "execution_count": 38,
     "metadata": {},
     "output_type": "execute_result"
    }
   ],
   "source": [
    "x.shape\n",
    "y.shape"
   ],
   "metadata": {
    "collapsed": false,
    "pycharm": {
     "name": "#%%\n"
    }
   }
  },
  {
   "cell_type": "code",
   "execution_count": 44,
   "outputs": [
    {
     "data": {
      "text/plain": "<bound method NDFrame.head of          CRIM    ZN  INDUS  CHAS    NOX     RM   AGE      DIS  RAD  PTRATIO  \\\n263   0.82526  20.0   3.97   0.0  0.647  7.327  94.5   2.0788    5     13.0   \n354   0.04301  80.0   1.91   0.0  0.413  5.663  21.9  10.5857    4     22.0   \n112   0.12329   0.0  10.01   0.0  0.547  5.913  92.9   2.3534    6     17.8   \n390   6.96215   0.0  18.10   0.0  0.700  5.713  97.0   1.9265   24     20.2   \n494   0.27957   0.0   9.69   0.0  0.585  5.926  42.6   2.3817    6     19.2   \n..        ...   ...    ...   ...    ...    ...   ...      ...  ...      ...   \n325   0.19186   0.0   7.38   0.0  0.493  6.431  14.7   5.4159    5     19.6   \n416  10.83420   0.0  18.10   0.0  0.679  6.782  90.8   1.8195   24     20.2   \n497   0.26838   0.0   9.69   0.0  0.585  5.794  70.6   2.8927    6     19.2   \n495   0.17899   0.0   9.69   0.0  0.585  5.670  28.8   2.7986    6     19.2   \n40    0.03359  75.0   2.95   0.0  0.428  7.024  15.8   5.4011    3     18.3   \n\n          B  LSTAT  MEDV  \n263  393.42  11.25  31.0  \n354  382.80   8.05  18.2  \n112  394.95  16.21  18.8  \n390  394.43  17.11  15.1  \n494  396.90  13.59  24.5  \n..      ...    ...   ...  \n325  393.68   5.08  24.6  \n416   21.57  25.79   7.5  \n497  396.90  14.10  18.3  \n495  393.29  17.60  23.1  \n40   395.62   1.98  34.9  \n\n[263 rows x 13 columns]>"
     },
     "execution_count": 44,
     "metadata": {},
     "output_type": "execute_result"
    }
   ],
   "source": [
    "x_train,x_test,y_train,y_test=train_test_split(x,y,test_size=0.33)\n",
    "x_train.head"
   ],
   "metadata": {
    "collapsed": false,
    "pycharm": {
     "name": "#%%\n"
    }
   }
  },
  {
   "cell_type": "code",
   "execution_count": 45,
   "outputs": [
    {
     "data": {
      "text/plain": "LinearRegression()"
     },
     "execution_count": 45,
     "metadata": {},
     "output_type": "execute_result"
    }
   ],
   "source": [
    "reg=linear_model.LinearRegression()\n",
    "reg.fit(x_train,y_train,sample_weight=None)\n"
   ],
   "metadata": {
    "collapsed": false,
    "pycharm": {
     "name": "#%%\n"
    }
   }
  },
  {
   "cell_type": "code",
   "execution_count": 48,
   "outputs": [
    {
     "data": {
      "text/plain": "0.8834102537140227"
     },
     "execution_count": 48,
     "metadata": {},
     "output_type": "execute_result"
    }
   ],
   "source": [
    "y_pred=reg.predict(x_test)\n",
    "reg.score(x_test,y_test)\n",
    "# reg.score(x_test,y_pred)"
   ],
   "metadata": {
    "collapsed": false,
    "pycharm": {
     "name": "#%%\n"
    }
   }
  }
 ],
 "metadata": {
  "kernelspec": {
   "name": "python2",
   "language": "python",
   "display_name": "Python 2"
  },
  "language_info": {
   "codemirror_mode": {
    "name": "ipython",
    "version": 2
   },
   "file_extension": ".py",
   "mimetype": "text/x-python",
   "name": "python",
   "nbconvert_exporter": "python",
   "pygments_lexer": "ipython2",
   "version": "2.7.6"
  }
 },
 "nbformat": 4,
 "nbformat_minor": 0
}