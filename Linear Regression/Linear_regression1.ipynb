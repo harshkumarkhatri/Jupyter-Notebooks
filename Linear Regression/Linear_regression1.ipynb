{
 "nbformat": 4,
 "nbformat_minor": 0,
 "metadata": {
  "colab": {
   "name": "Linear regression1.ipynb",
   "provenance": [],
   "collapsed_sections": []
  },
  "kernelspec": {
   "name": "python38264bit20f0e0daf8594bd1bd66827f6638780a",
   "language": "python",
   "display_name": "Python 3.8.2 64-bit"
  }
 },
 "cells": [
  {
   "cell_type": "code",
   "metadata": {
    "id": "3ZVOvbA4-qEY",
    "colab_type": "code",
    "colab": {}
   },
   "source": [
    "import numpy as np\n",
    "# import tensorflow as tf\n",
    "import tensorflow.compat.v1 as tf\n",
    "\n",
    "tf.disable_v2_behavior()\n",
    "import matplotlib.pyplot as plt"
   ],
   "execution_count": 0,
   "outputs": []
  },
  {
   "cell_type": "code",
   "metadata": {
    "id": "M5hg6iUl-2CM",
    "colab_type": "code",
    "colab": {}
   },
   "source": [
    "np.random.seed(101)\n",
    "tf.set_random_seed(101) "
   ],
   "execution_count": 0,
   "outputs": []
  },
  {
   "cell_type": "code",
   "metadata": {
    "id": "KGDKy4Hg_Ljr",
    "colab_type": "code",
    "colab": {
     "base_uri": "https://localhost:8080/",
     "height": 170
    },
    "outputId": "3a86b237-a7f6-46da-b073-f6d3ee9e4ff6"
   },
   "source": [
    "x=np.linspace(0,50,50)\n",
    "print(x)"
   ],
   "execution_count": 46,
   "outputs": [
    {
     "output_type": "stream",
     "text": [
      "[ 0.          1.02040816  2.04081633  3.06122449  4.08163265  5.10204082\n",
      "  6.12244898  7.14285714  8.16326531  9.18367347 10.20408163 11.2244898\n",
      " 12.24489796 13.26530612 14.28571429 15.30612245 16.32653061 17.34693878\n",
      " 18.36734694 19.3877551  20.40816327 21.42857143 22.44897959 23.46938776\n",
      " 24.48979592 25.51020408 26.53061224 27.55102041 28.57142857 29.59183673\n",
      " 30.6122449  31.63265306 32.65306122 33.67346939 34.69387755 35.71428571\n",
      " 36.73469388 37.75510204 38.7755102  39.79591837 40.81632653 41.83673469\n",
      " 42.85714286 43.87755102 44.89795918 45.91836735 46.93877551 47.95918367\n",
      " 48.97959184 50.        ]\n"
     ],
     "name": "stdout"
    }
   ]
  },
  {
   "cell_type": "code",
   "metadata": {
    "id": "ELQ4WMdA_Z6L",
    "colab_type": "code",
    "colab": {
     "base_uri": "https://localhost:8080/",
     "height": 170
    },
    "outputId": "e05e85ec-ef35-444a-8216-28def2818067"
   },
   "source": [
    "y=np.linspace(0,50,50)\n",
    "print(y)"
   ],
   "execution_count": 47,
   "outputs": [
    {
     "output_type": "stream",
     "text": [
      "[ 0.          1.02040816  2.04081633  3.06122449  4.08163265  5.10204082\n",
      "  6.12244898  7.14285714  8.16326531  9.18367347 10.20408163 11.2244898\n",
      " 12.24489796 13.26530612 14.28571429 15.30612245 16.32653061 17.34693878\n",
      " 18.36734694 19.3877551  20.40816327 21.42857143 22.44897959 23.46938776\n",
      " 24.48979592 25.51020408 26.53061224 27.55102041 28.57142857 29.59183673\n",
      " 30.6122449  31.63265306 32.65306122 33.67346939 34.69387755 35.71428571\n",
      " 36.73469388 37.75510204 38.7755102  39.79591837 40.81632653 41.83673469\n",
      " 42.85714286 43.87755102 44.89795918 45.91836735 46.93877551 47.95918367\n",
      " 48.97959184 50.        ]\n"
     ],
     "name": "stdout"
    }
   ]
  },
  {
   "cell_type": "code",
   "metadata": {
    "id": "EM8QXdR7_eZn",
    "colab_type": "code",
    "colab": {
     "base_uri": "https://localhost:8080/",
     "height": 170
    },
    "outputId": "0d89796a-b596-4e71-ed33-db7c2d9072bc"
   },
   "source": [
    "x+=np.random.uniform(-4,4,50)\n",
    "print(x)"
   ],
   "execution_count": 48,
   "outputs": [
    {
     "output_type": "stream",
     "text": [
      "[ 0.13118902  1.58574886 -1.73138986  0.43339774  5.56384851  7.77321572\n",
      "  4.57817874 10.29176178  9.9356162   6.7031851  10.63790236 10.04154543\n",
      "  9.70003718 15.55012022 18.00958007 13.16495174 12.99502208 18.17532615\n",
      " 20.199289   17.59766573 21.8906139  21.57151122 18.83685589 20.57234166\n",
      " 21.98553533 29.46474729 26.69593542 28.18133669 30.44998104 29.92753091\n",
      " 33.91747336 34.09601427 31.87704387 32.53126413 38.31689127 34.46333834\n",
      " 39.65549241 40.39732374 39.0808018  43.17567335 37.59349837 38.65951464\n",
      " 44.46920122 47.00138997 42.17444159 44.12294771 48.31870775 45.27360867\n",
      " 50.59056093 49.90108178]\n"
     ],
     "name": "stdout"
    }
   ]
  },
  {
   "cell_type": "code",
   "metadata": {
    "id": "vJYM63Aw_nk-",
    "colab_type": "code",
    "colab": {}
   },
   "source": [
    "y+=np.random.uniform(-4,4,50)"
   ],
   "execution_count": 0,
   "outputs": []
  },
  {
   "cell_type": "code",
   "metadata": {
    "id": "apwvLGJS_tzy",
    "colab_type": "code",
    "colab": {
     "base_uri": "https://localhost:8080/",
     "height": 170
    },
    "outputId": "3b48370e-066a-483d-a746-7ae119641dbd"
   },
   "source": [
    "print(y)"
   ],
   "execution_count": 50,
   "outputs": [
    {
     "output_type": "stream",
     "text": [
      "[ 1.44542215  1.1927937  -1.61201012  0.85271732  4.68327335  2.0655101\n",
      "  6.12338269  4.24693369  4.58573251  6.60988885  9.74302668 14.24518839\n",
      " 15.83901099 13.09064546 13.97466902 16.4044347  14.92339458 14.28756352\n",
      " 14.77615491 20.48902432 22.90629042 22.79065479 23.66312122 22.8659393\n",
      " 25.74255861 23.18349607 27.8100084  27.7880076  30.55959153 26.34189158\n",
      " 32.8884197  33.13058936 34.2136892  33.64840154 38.49676657 33.34250668\n",
      " 35.12685715 35.57634918 35.16086129 43.02768923 37.45715484 42.69446487\n",
      " 43.90391649 42.90108648 41.00388727 48.65612264 46.01827748 48.37251043\n",
      " 50.66389696 51.40223081]\n"
     ],
     "name": "stdout"
    }
   ]
  },
  {
   "cell_type": "code",
   "metadata": {
    "id": "ObJY9Dgt_xI9",
    "colab_type": "code",
    "colab": {
     "base_uri": "https://localhost:8080/",
     "height": 312
    },
    "outputId": "e73ae2f0-8cda-4c62-e10c-5fd71e8c85e0"
   },
   "source": [
    "n=len(x)\n",
    "print(n)\n",
    "plt.scatter(x, y) \n",
    "plt.xlabel('x') \n",
    "plt.xlabel('y') \n",
    "plt.title(\"Training Data\") \n",
    "plt.show() "
   ],
   "execution_count": 51,
   "outputs": [
    {
     "output_type": "stream",
     "text": [
      "50\n"
     ],
     "name": "stdout"
    },
    {
     "output_type": "display_data",
     "data": {
      "image/png": "[encoded data removed]",
      "text/plain": [
       "<Figure size 432x288 with 1 Axes>"
      ]
     },
     "metadata": {
      "tags": [],
      "needs_background": "light"
     }
    }
   ]
  },
  {
   "cell_type": "code",
   "metadata": {
    "id": "_PY-SB2RAaPR",
    "colab_type": "code",
    "colab": {
     "base_uri": "https://localhost:8080/",
     "height": 234
    },
    "outputId": "e780a8bc-46c1-4fa3-bd9d-03d6d1b3f2c1"
   },
   "source": [
    "x=tf.placeholdeX(\"float\")\n",
    "# print(x)\n",
    "Y=tf.placeholder(\"float\")\n",
    "# print(y)"
   ],
   "execution_count": 52,
   "outputs": [
    {
     "output_type": "error",
     "ename": "AttributeError",
     "evalue": "ignored",
     "traceback": [
      "\u001B[0;31m---------------------------------------------------------------------------\u001B[0m",
      "\u001B[0;31mAttributeError\u001B[0m                            Traceback (most recent call last)",
      "\u001B[0;32m<ipython-input-52-02d20b4826a4>\u001B[0m in \u001B[0;36m<module>\u001B[0;34m()\u001B[0m\n\u001B[0;32m----> 1\u001B[0;31m \u001B[0mx\u001B[0m\u001B[0;34m=\u001B[0m\u001B[0mtf\u001B[0m\u001B[0;34m.\u001B[0m\u001B[0mplaceholdeX\u001B[0m\u001B[0;34m(\u001B[0m\u001B[0;34m\"float\"\u001B[0m\u001B[0;34m)\u001B[0m\u001B[0;34m\u001B[0m\u001B[0;34m\u001B[0m\u001B[0m\n\u001B[0m\u001B[1;32m      2\u001B[0m \u001B[0;31m# print(x)\u001B[0m\u001B[0;34m\u001B[0m\u001B[0;34m\u001B[0m\u001B[0;34m\u001B[0m\u001B[0m\n\u001B[1;32m      3\u001B[0m \u001B[0mY\u001B[0m\u001B[0;34m=\u001B[0m\u001B[0mtf\u001B[0m\u001B[0;34m.\u001B[0m\u001B[0mplaceholder\u001B[0m\u001B[0;34m(\u001B[0m\u001B[0;34m\"float\"\u001B[0m\u001B[0;34m)\u001B[0m\u001B[0;34m\u001B[0m\u001B[0;34m\u001B[0m\u001B[0m\n\u001B[1;32m      4\u001B[0m \u001B[0;31m# print(y)\u001B[0m\u001B[0;34m\u001B[0m\u001B[0;34m\u001B[0m\u001B[0;34m\u001B[0m\u001B[0m\n",
      "\u001B[0;31mAttributeError\u001B[0m: module 'tensorflow.compat.v1' has no attribute 'placeholdeX'"
     ]
    }
   ]
  },
  {
   "cell_type": "code",
   "metadata": {
    "id": "wEQkFwNzBNOt",
    "colab_type": "code",
    "colab": {}
   },
   "source": [
    "w=tf.Variable(np.random.randn(),name='w')\n",
    "print(w)\n",
    "b=tf.Variable(np.random.randn(),name='b')\n",
    "print(b)"
   ],
   "execution_count": 0,
   "outputs": []
  },
  {
   "cell_type": "code",
   "metadata": {
    "id": "kpMPEIJnBiCb",
    "colab_type": "code",
    "colab": {}
   },
   "source": [
    "learning_rate=0.01\n",
    "epochs=1000"
   ],
   "execution_count": 0,
   "outputs": []
  },
  {
   "cell_type": "code",
   "metadata": {
    "id": "EOVI4FvyBmmR",
    "colab_type": "code",
    "colab": {}
   },
   "source": [
    "\n",
    "brightness_4\n",
    "# Hypothesis \n",
    "y_pred = tf.add(tf.multiply(X, W), b) \n",
    "  \n",
    "# Mean Squared Error Cost Function \n",
    "cost = tf.reduce_sum(tf.pow(y_pred-Y, 2)) / (2 * n) \n",
    "  \n",
    "# Gradient Descent Optimizer \n",
    "optimizer = tf.train.GradientDescentOptimizer(learning_rate).minimize(cost) \n",
    "  \n",
    "# Global Variables Initializer \n",
    "init = tf.global_variables_initializer() "
   ],
   "execution_count": 0,
   "outputs": []
  },
  {
   "cell_type": "code",
   "metadata": {
    "id": "6l6ZL107CL4U",
    "colab_type": "code",
    "colab": {}
   },
   "source": [
    "with tf.Session() as sess: \n",
    "      \n",
    "    # Initializing the Variables \n",
    "    sess.run(init) \n",
    "      \n",
    "    # Iterating through all the epochs \n",
    "    for epoch in range(training_epochs): \n",
    "          \n",
    "        # Feeding each data point into the optimizer using Feed Dictionary \n",
    "        for (_x, _y) in zip(x, y): \n",
    "            sess.run(optimizer, feed_dict = {X : _x, Y : _y}) \n",
    "          \n",
    "        # Displaying the result after every 50 epochs \n",
    "        if (epoch + 1) % 50 == 0: \n",
    "            # Calculating the cost a every epoch \n",
    "            c = sess.run(cost, feed_dict = {X : x, Y : y}) \n",
    "            print(\"Epoch\", (epoch + 1), \": cost =\", c, \"W =\", sess.run(W), \"b =\", sess.run(b)) \n",
    "      \n",
    "    # Storing necessary values to be used outside the Session \n",
    "    training_cost = sess.run(cost, feed_dict ={X: x, Y: y}) \n",
    "    weight = sess.run(W) \n",
    "    bias = sess.run(b) "
   ],
   "execution_count": 0,
   "outputs": []
  },
  {
   "cell_type": "code",
   "metadata": {
    "id": "eTvTO1cXCRM6",
    "colab_type": "code",
    "colab": {}
   },
   "source": [
    "predictions = weight * x + bias \n",
    "print(\"Training cost =\", training_cost, \"Weight =\", weight, \"bias =\", bias, '\\n') "
   ],
   "execution_count": 0,
   "outputs": []
  },
  {
   "cell_type": "code",
   "metadata": {
    "id": "VOXkTIlOCURb",
    "colab_type": "code",
    "colab": {}
   },
   "source": [
    "plt.plot(x, y, 'ro', label ='Original data') \n",
    "plt.plot(x, predictions, label ='Fitted line') \n",
    "plt.title('Linear Regression Result') \n",
    "plt.legend() \n",
    "plt.show() "
   ],
   "execution_count": 0,
   "outputs": []
  }
 ]
}